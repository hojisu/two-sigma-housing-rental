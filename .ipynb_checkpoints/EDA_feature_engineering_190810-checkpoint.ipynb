{
 "cells": [
  {
   "cell_type": "code",
   "execution_count": 1,
   "metadata": {},
   "outputs": [],
   "source": [
    "%matplotlib inline\n",
    "import json"
   ]
  },
  {
   "cell_type": "code",
   "execution_count": 5,
   "metadata": {
    "scrolled": true
   },
   "outputs": [
    {
     "ename": "FileNotFoundError",
     "evalue": "[Errno 2] No such file or directory: './two-sigma-connect-rental-listing-inquiries/train.json'",
     "output_type": "error",
     "traceback": [
      "\u001b[0;31m---------------------------------------------------------------------------\u001b[0m",
      "\u001b[0;31mFileNotFoundError\u001b[0m                         Traceback (most recent call last)",
      "\u001b[0;32m<ipython-input-5-9e0ad5436ca8>\u001b[0m in \u001b[0;36m<module>\u001b[0;34m\u001b[0m\n\u001b[1;32m      1\u001b[0m \u001b[0;32mimport\u001b[0m \u001b[0mjson\u001b[0m\u001b[0;34m\u001b[0m\u001b[0;34m\u001b[0m\u001b[0m\n\u001b[0;32m----> 2\u001b[0;31m \u001b[0;32mwith\u001b[0m \u001b[0mopen\u001b[0m\u001b[0;34m(\u001b[0m\u001b[0;34m'./two-sigma-connect-rental-listing-inquiries/train.json'\u001b[0m\u001b[0;34m)\u001b[0m \u001b[0;32mas\u001b[0m \u001b[0mtrain\u001b[0m\u001b[0;34m:\u001b[0m\u001b[0;34m\u001b[0m\u001b[0;34m\u001b[0m\u001b[0m\n\u001b[0m\u001b[1;32m      3\u001b[0m     \u001b[0mjson_data\u001b[0m \u001b[0;34m=\u001b[0m \u001b[0mjson\u001b[0m\u001b[0;34m.\u001b[0m\u001b[0mload\u001b[0m\u001b[0;34m(\u001b[0m\u001b[0mtrain\u001b[0m\u001b[0;34m)\u001b[0m\u001b[0;34m\u001b[0m\u001b[0;34m\u001b[0m\u001b[0m\n\u001b[1;32m      4\u001b[0m \u001b[0mdf\u001b[0m \u001b[0;34m=\u001b[0m \u001b[0mpd\u001b[0m\u001b[0;34m.\u001b[0m\u001b[0mDataFrame\u001b[0m\u001b[0;34m(\u001b[0m\u001b[0mjson_data\u001b[0m\u001b[0;34m)\u001b[0m\u001b[0;34m\u001b[0m\u001b[0;34m\u001b[0m\u001b[0m\n",
      "\u001b[0;31mFileNotFoundError\u001b[0m: [Errno 2] No such file or directory: './two-sigma-connect-rental-listing-inquiries/train.json'"
     ]
    }
   ],
   "source": [
    "import json\n",
    "with open('./two-sigma-connect-rental-listing-inquiries/train.json') as train:\n",
    "    json_data = json.load(train)\n",
    "df = pd.DataFrame(json_data)"
   ]
  },
  {
   "cell_type": "markdown",
   "metadata": {},
   "source": [
    "## EDA\n",
    "- 피쳐 데이터 타입 살펴보기\n",
    "- missing data 확인\n",
    "- target variable 분포 확인\n",
    "- price 분포 확인\n",
    "- longitude/latitude 분포 확인\n",
    "- bathroom, bedroom 분포 확인\n",
    "- numeric feature 공선성 확인"
   ]
  },
  {
   "cell_type": "code",
   "execution_count": null,
   "metadata": {},
   "outputs": [],
   "source": [
    "df.shape"
   ]
  },
  {
   "cell_type": "code",
   "execution_count": null,
   "metadata": {},
   "outputs": [],
   "source": [
    "# 피쳐 데이터 타입 살펴보기\n",
    "df_dtype = df.dtypes.reset_index()\n",
    "df_dtype.columns = ['Count', 'Column Type']\n",
    "df_dtype.groupby('Column Type').aggregate('count').reset_index()"
   ]
  },
  {
   "cell_type": "code",
   "execution_count": null,
   "metadata": {},
   "outputs": [],
   "source": [
    "# missing data 없음\n",
    "df.isnull().sum()"
   ]
  },
  {
   "cell_type": "code",
   "execution_count": null,
   "metadata": {},
   "outputs": [],
   "source": [
    "# Target variable exploration\n",
    "sns.countplot(df.interest_level, order=['low', 'medium', 'high']);\n",
    "plt.xlabel('Interest Level');\n",
    "plt.ylabel('Number of occurrences');"
   ]
  },
  {
   "cell_type": "code",
   "execution_count": null,
   "metadata": {},
   "outputs": [],
   "source": [
    "# price histogram\n",
    "def price_histogram():\n",
    "    fig,ax = plt.subplots(1,2, figsize=(20,8))\n",
    "    ax1,ax2 = ax.flatten()\n",
    "\n",
    "    df.price.plot.hist(bins=20, color='Purple', edgecolor='black', ax=ax1);\n",
    "    ax1.set_title('Price Histograms', fontsize=17)\n",
    "    ax1.set_ylabel('')\n",
    "    ax1.set_xlabel('')\n",
    "\n",
    "    log_price = np.log(df.price)\n",
    "    sns.distplot(log_price,  bins=30, color='tomato', kde=True, ax=ax2)\n",
    "    ax2.set_title(\"Price Distribution Histogram\", fontsize=17)\n",
    "    ax2.set_ylabel(\"\")\n",
    "    ax2.set_xlabel('')\n",
    "    plt.subplots_adjust(wspace=0.2);\n",
    "\n",
    "price_histogram()"
   ]
  },
  {
   "cell_type": "code",
   "execution_count": null,
   "metadata": {},
   "outputs": [],
   "source": [
    "# Average Price per Interest Level\n",
    "sns.barplot(x=\"interest_level\", y=\"price\", order=['low', 'medium', 'high'], data=df)\n",
    "plt.xlabel('Interest Level')\n",
    "plt.ylabel('Price')\n",
    "plt.show()"
   ]
  },
  {
   "cell_type": "code",
   "execution_count": null,
   "metadata": {},
   "outputs": [],
   "source": [
    "# longtitude/ latitude 분포 확인\n",
    "sns.pairplot(df[['longitude', 'latitude', 'interest_level']], hue='interest_level')\n",
    "plt.ylabel('latitude')\n",
    "plt.xlabel('longitude')\n",
    "plt.show()"
   ]
  },
  {
   "cell_type": "code",
   "execution_count": null,
   "metadata": {},
   "outputs": [],
   "source": [
    "# Bedrooms graphs\n",
    "fig = plt.figure(figsize=(12,12))\n",
    "# Number of occurrences\n",
    "sns.countplot(df.bedrooms, ax = plt.subplot(221));\n",
    "plt.xlabel('Number of Bedrooms');\n",
    "plt.ylabel('Number of occurrences');\n",
    "# Average number of Bathrooms per Interest Level\n",
    "sns.barplot(x='interest_level', y='bedrooms', data=df, order=['low', 'medium', 'high'],\n",
    "            ax = plt.subplot(222));\n",
    "plt.xlabel('Interest Level');\n",
    "plt.ylabel('Average Number of Bathrooms');"
   ]
  },
  {
   "cell_type": "code",
   "execution_count": null,
   "metadata": {},
   "outputs": [],
   "source": [
    "# Bathrooms graphs\n",
    "fig = plt.figure(figsize=(12,12))\n",
    "# Number of occurrences\n",
    "sns.countplot(df.bathrooms, ax = plt.subplot(221));\n",
    "plt.xlabel('Number of Bathrooms');\n",
    "plt.ylabel('Number of occurrences');\n",
    "# Average number of Bathrooms per Interest Level\n",
    "sns.barplot(x='interest_level', y='bathrooms', data=df, order=['low', 'medium', 'high'],\n",
    "            ax = plt.subplot(222));\n",
    "plt.xlabel('Interest Level');\n",
    "plt.ylabel('Average Number of Bathrooms');"
   ]
  },
  {
   "cell_type": "code",
   "execution_count": null,
   "metadata": {
    "scrolled": true
   },
   "outputs": [],
   "source": [
    "# numeric feature 공선성 확인\n",
    "df_numeric = df.select_dtypes(include=['int64', 'float64'])\n",
    "plt.figure(figsize=(20,20))\n",
    "sns.heatmap(data = df_numeric.corr(), annot=True, fmt = '.2f', linewidths=.5, cmap='Blues')"
   ]
  },
  {
   "cell_type": "markdown",
   "metadata": {},
   "source": [
    "## feature engineering\n",
    "- 'created' 피쳐를 게시된 년도, 월, 날짜, 시간, 주말/평일 구분 column 추가\n",
    "- price per bad column 추가\n",
    "- price outlier 확인 및 상/하위 1% outlier 제거\n",
    "- log price column 추가\n",
    "- number of photos column 추가\n",
    "- description length column 추가\n",
    "- sutdio column(bedroom = 0)추가\n",
    "- NY 벗어나는 위도경도 outlier 제거\n",
    "- features column에서 상위 10개 새로운 column으로 생성\n",
    "#### 고민해보기\n",
    "- neighborhood column \n",
    "- building_id, manager_id "
   ]
  },
  {
   "cell_type": "code",
   "execution_count": null,
   "metadata": {},
   "outputs": [],
   "source": [
    "# 게시된 년도, 월, 날짜, 시간 column 생성\n",
    "df.created = pd.to_datetime(df.created, format='%Y-%m-%d %H:%M:%S')\n",
    "df['month'] = df.created.dt.month\n",
    "df['day_of_week'] = df.created.dt.weekday_name\n",
    "df['hour'] = df.created.dt.hour\n",
    "# 'created' column drop\n",
    "df.drop('created', axis=1, inplace=True)"
   ]
  },
  {
   "cell_type": "code",
   "execution_count": null,
   "metadata": {},
   "outputs": [],
   "source": [
    "# 주말(1)/평일(0)  column 생성\n",
    "df['weekend'] = df.apply(lambda row: 1 if row['day_of_week'] in ['Saturday', 'Sunday', 'Friday'] else 0, axis=1)"
   ]
  },
  {
   "cell_type": "code",
   "execution_count": null,
   "metadata": {
    "scrolled": true
   },
   "outputs": [],
   "source": [
    "# Iterest per month\n",
    "fig = plt.figure(figsize=(12,6))\n",
    "ax = sns.countplot(x=\"month\", hue=\"interest_level\", hue_order=['low', 'medium', 'high'],\n",
    "                   data=df);\n",
    "plt.xlabel('Month');\n",
    "plt.ylabel('Number of occurrences')\n",
    "\n",
    "# Adding percents over bars\n",
    "height = [p.get_height() for p in ax.patches]\n",
    "ncol = int(len(height)/3)\n",
    "total = [height[i] + height[i + ncol] + height[i + 2*ncol] for i in range(ncol)] * 3\n",
    "for i, p in enumerate(ax.patches):    \n",
    "    ax.text(p.get_x()+p.get_width()/2,\n",
    "            height[i] + 50,\n",
    "            '{:1.0%}'.format(height[i]/total[i]),\n",
    "            ha=\"center\") "
   ]
  },
  {
   "cell_type": "code",
   "execution_count": null,
   "metadata": {},
   "outputs": [],
   "source": [
    "# # Iterest per Day of Week\n",
    "# fig = plt.figure(figsize=(12,6))\n",
    "# ax = sns.countplot(x=\"day_of_week\", hue=\"interest_level\",\n",
    "#                    hue_order=['low', 'medium', 'high'], data=df,\n",
    "#                    order=['Sunday', 'Monday', 'Tuesday', 'Wednesday', 'Thursday', 'Friday', 'Saturday']);\n",
    "# plt.xlabel('Day of Week');\n",
    "# plt.ylabel('Number of occurrences');\n",
    "\n",
    "# # Adding percents over bars\n",
    "# height = [p.get_height() for p in ax.patches]\n",
    "# ncol = int(len(height)/3)\n",
    "# total = [height[i] + height[i + ncol] + height[i + 2*ncol] for i in range(ncol)] * 3\n",
    "# for i, p in enumerate(ax.patches):    \n",
    "#     ax.text(p.get_x()+p.get_width()/2,\n",
    "#             height[i] + 50,\n",
    "#             '{:1.0%}'.format(height[i]/total[i]),\n",
    "#             ha=\"center\") "
   ]
  },
  {
   "cell_type": "code",
   "execution_count": null,
   "metadata": {},
   "outputs": [],
   "source": [
    "# Day of Week per Iterest\n",
    "fig = plt.figure(figsize=(12,6))\n",
    "ax = sns.countplot(x=\"interest_level\", hue=\"day_of_week\",\n",
    "                   hue_order=['Sunday', 'Monday', 'Tuesday', 'Wednesday', 'Thursday', 'Friday', 'Saturday'], data=df,\n",
    "                   order=['low', 'medium', 'high'])\n",
    "plt.xlabel('Day of Week')\n",
    "plt.ylabel('Number of occurrences')\n",
    "\n",
    "# Adding percents over bars\n",
    "height = [p.get_height() for p in ax.patches]\n",
    "ncol = int(len(height)/3)\n",
    "total = [height[i] + height[i + ncol] + height[i + 2*ncol] for i in range(ncol)] * 3\n",
    "for i, p in enumerate(ax.patches):    \n",
    "    ax.text(p.get_x()+p.get_width()/2,\n",
    "            height[i] + 50,\n",
    "            '{:1.0%}'.format(height[i]/total[i]),\n",
    "            ha=\"center\") "
   ]
  },
  {
   "cell_type": "code",
   "execution_count": null,
   "metadata": {},
   "outputs": [],
   "source": [
    "# Iterest per weekend\n",
    "fig = plt.figure(figsize=(12,6))\n",
    "ax = sns.countplot(x=\"weekend\", hue=\"interest_level\", hue_order=['low', 'medium', 'high'],\n",
    "                   data=df);\n",
    "plt.xlabel('weekend');\n",
    "plt.ylabel('Number of occurrences')\n",
    "\n",
    "# Adding percents over bars\n",
    "height = [p.get_height() for p in ax.patches]\n",
    "ncol = int(len(height)/3)\n",
    "total = [height[i] + height[i + ncol] + height[i + 2*ncol] for i in range(ncol)] * 3\n",
    "for i, p in enumerate(ax.patches):    \n",
    "    ax.text(p.get_x()+p.get_width()/2,\n",
    "            height[i] + 50,\n",
    "            '{:1.0%}'.format(height[i]/total[i]),\n",
    "            ha=\"center\") "
   ]
  },
  {
   "cell_type": "code",
   "execution_count": null,
   "metadata": {},
   "outputs": [],
   "source": [
    "# price per bedroom\n",
    "df.bedrooms[df.bedrooms == 0] = 1\n",
    "df['price_per_bedroom'] = np.round(df.price / df.bedrooms, 0)"
   ]
  },
  {
   "cell_type": "code",
   "execution_count": null,
   "metadata": {},
   "outputs": [],
   "source": [
    "# price outlier 확인\n",
    "plt.scatter(range(df.shape[0]), np.sort(df.price.values))\n",
    "plt.title(\"Price with outliers present\",fontsize = 18)\n",
    "plt.xlabel('Index', fontsize = 15)\n",
    "plt.ylabel('Price', fontsize = 15)\n",
    "plt.show()"
   ]
  },
  {
   "cell_type": "code",
   "execution_count": null,
   "metadata": {
    "scrolled": true
   },
   "outputs": [],
   "source": [
    "# Cut out bottom and top 1% of price data\n",
    "price_low = np.percentile(df['price'], 1)\n",
    "price_high = np.percentile(df['price'], 99)\n",
    "    \n",
    "    \n",
    "# cut out the defined range above from the dataframe\n",
    "df = df.drop(df[df['price'] < price_low].index)\n",
    "df = df.drop(df[df['price'] > price_high].index)"
   ]
  },
  {
   "cell_type": "code",
   "execution_count": null,
   "metadata": {},
   "outputs": [],
   "source": [
    "# price outlier 확인\n",
    "plt.scatter(range(df.shape[0]), np.sort(df.price.values))\n",
    "plt.title(\"Price with outliers present\",fontsize = 18)\n",
    "plt.xlabel('Index', fontsize = 15)\n",
    "plt.ylabel('Price', fontsize = 15)\n",
    "plt.show()"
   ]
  },
  {
   "cell_type": "code",
   "execution_count": null,
   "metadata": {},
   "outputs": [],
   "source": [
    "# price histogram\n",
    "def price_histogram():\n",
    "    fig,ax = plt.subplots(1,2, figsize=(20,8))\n",
    "    ax1,ax2 = ax.flatten()\n",
    "\n",
    "    df.price.plot.hist(bins=20, color='Purple', edgecolor='black', ax=ax1);\n",
    "    ax1.set_title('Price Histograms', fontsize=17)\n",
    "    ax1.set_ylabel('')\n",
    "    ax1.set_xlabel('')\n",
    "\n",
    "    log_price = np.log(df.price)\n",
    "    sns.distplot(log_price,  bins=30, color='tomato', kde=True, ax=ax2)\n",
    "    ax2.set_title(\"Price Distribution Histogram\", fontsize=17)\n",
    "    ax2.set_ylabel(\"\")\n",
    "    ax2.set_xlabel('')\n",
    "    plt.subplots_adjust(wspace=0.2);\n",
    "\n",
    "price_histogram()"
   ]
  },
  {
   "cell_type": "code",
   "execution_count": null,
   "metadata": {},
   "outputs": [],
   "source": [
    "# Log price \n",
    "df['log_price'] = df.price.map(np.log)"
   ]
  },
  {
   "cell_type": "code",
   "execution_count": null,
   "metadata": {},
   "outputs": [],
   "source": [
    "# create feature for number of photos, description length\n",
    "df['num_of_photos'] = df.photos.map(len)\n",
    "df['description_length'] = df.description.apply(lambda x: len(x.split(\" \")))\n",
    "# bedroom = 0 이면 sutdio column 추가\n",
    "df['studio'] = df.bedrooms.apply(lambda x: 1 if x==0 else 0)"
   ]
  },
  {
   "cell_type": "code",
   "execution_count": null,
   "metadata": {},
   "outputs": [],
   "source": [
    "# Remove bathrooms outlier \n",
    "df.loc[df.bathrooms == 112, \"bathrooms\"] = 1"
   ]
  },
  {
   "cell_type": "code",
   "execution_count": null,
   "metadata": {},
   "outputs": [],
   "source": [
    "# NY 벗어나는 위도/경도(lat; 40.6976684, long; -74.2605443) outlier 제거\n",
    "long_low = -74.2\n",
    "long_high = -73.7\n",
    "lat_low = 40.5\n",
    "lat_high = 41\n",
    "\n",
    "#Removing out of bounds longitude\n",
    "df = df.drop(df[df.longitude < long_low].index)\n",
    "df = df.drop(df[df.longitude > long_high].index)\n",
    "\n",
    "#Removing out of bounds latitude\n",
    "df = df.drop(df[df.latitude < lat_low].index)\n",
    "df = df.drop(df[df.latitude > lat_high].index)"
   ]
  },
  {
   "cell_type": "code",
   "execution_count": null,
   "metadata": {},
   "outputs": [],
   "source": [
    "sns.pairplot(df[['longitude', 'latitude', 'interest_level']], hue='interest_level')\n",
    "plt.ylabel('latitude')\n",
    "plt.xlabel('longitude')\n",
    "plt.show()"
   ]
  },
  {
   "cell_type": "code",
   "execution_count": null,
   "metadata": {},
   "outputs": [],
   "source": [
    "# feature \n",
    "df['features'].tolist()\n",
    "\n",
    "# 하나의 리스트로 바꿔주고 모두 소문자로 변환\n",
    "def flatten(vals):\n",
    "    ret = []\n",
    "    for i in vals:\n",
    "        ret.extend([f.lower() for f in i])\n",
    "    return ret\n",
    "\n",
    "features = flatten(df['features'].tolist())\n",
    "\n",
    "# 카운트 \n",
    "count = dict()\n",
    "for f in features:\n",
    "    count[f] = count.get(f, 0) + 1\n",
    "    \n",
    "# 내림차순으로 정렬\n",
    "sorted(count.items(), key=lambda x: x[1], reverse=True)"
   ]
  },
  {
   "cell_type": "code",
   "execution_count": null,
   "metadata": {},
   "outputs": [],
   "source": [
    "# 기존 feature 갯수와 count.key 갯수 비교\n",
    "len(features), len(count.keys())"
   ]
  },
  {
   "cell_type": "code",
   "execution_count": null,
   "metadata": {},
   "outputs": [],
   "source": [
    "# 상위 10개 features value를 새로운 column으로 생성\n",
    "def check(features, vals):\n",
    "    for f in features:\n",
    "        f = f.lower()\n",
    "        if f in vals:\n",
    "            return True\n",
    "    return False"
   ]
  },
  {
   "cell_type": "code",
   "execution_count": null,
   "metadata": {},
   "outputs": [],
   "source": [
    "df['elevator'] = df.apply(lambda row: check(row['features'], ['elevator']), axis=1)"
   ]
  },
  {
   "cell_type": "code",
   "execution_count": null,
   "metadata": {},
   "outputs": [],
   "source": [
    "df['hardwood_floors'] = df.apply(lambda row: check(row['features'], ['hardwood floors', 'hardwood', 'hardwood floor', 'hardwood flooring' ]), axis=1)"
   ]
  },
  {
   "cell_type": "code",
   "execution_count": null,
   "metadata": {},
   "outputs": [],
   "source": [
    "pet_allowed = ['cats allowed', 'dogs allowed', 'pets allowed case by case', 'pets on approval', 'pet friendly', 'pets ok', 'pets', 'pets: cats/small dogs']\n",
    "df['pet_allowed'] = df.apply(lambda row: check(row['features'], pet_allowed), axis=1)"
   ]
  },
  {
   "cell_type": "code",
   "execution_count": null,
   "metadata": {},
   "outputs": [],
   "source": [
    "doorman = ['doorman', 'full-time doorman', 'virtual doorman', 'ft doorman', '24/7 doorman', '24hr doorman', 'part-time doorman', '24/7 doorman concierge', '24-hour doorman', '24 hr doorman', '24 hour doorman', '24/7 full-time doorman concierge', ]\n",
    "df['doorman'] = df.apply(lambda row: check(row['features'], doorman), axis=1)"
   ]
  },
  {
   "cell_type": "code",
   "execution_count": null,
   "metadata": {},
   "outputs": [],
   "source": [
    "df['dishwasher'] = df.apply(lambda row: check(row['features'], ['dishwasher', 'dish washer']), axis=1)"
   ]
  },
  {
   "cell_type": "code",
   "execution_count": null,
   "metadata": {},
   "outputs": [],
   "source": [
    "laundry = ['laundry in building', 'laundry in unit', 'on-site laundry', 'laundry room', 'laundry']\n",
    "df['laundry'] = df.apply(lambda row: check(row['features'], laundry), axis=1)"
   ]
  },
  {
   "cell_type": "code",
   "execution_count": null,
   "metadata": {},
   "outputs": [],
   "source": [
    "df['no_fee'] = df.apply(lambda row: check(row['features'], ['no fee', 'reduced fee', 'low fee']), axis=1)"
   ]
  },
  {
   "cell_type": "code",
   "execution_count": null,
   "metadata": {},
   "outputs": [],
   "source": [
    "fitness_center = ['fitness center', 'gym/fitness', 'fitness room', 'state-of-the-art fitness center', 'fitness facility', 'fully-equipped club fitness center', 'state-of-the-art cardio and fitness club']\n",
    "df['fitness_center'] = df.apply(lambda row: check(row['features'], fitness_center), axis=1)"
   ]
  },
  {
   "cell_type": "code",
   "execution_count": null,
   "metadata": {},
   "outputs": [],
   "source": [
    "df['pre_war'] = df.apply(lambda row: check(row['features'], ['pre-war', 'prewar', 'pre war']), axis=1)"
   ]
  },
  {
   "cell_type": "code",
   "execution_count": null,
   "metadata": {},
   "outputs": [],
   "source": [
    "roof_deck = ['roof deck', 'roof-deck', 'roofdeck', 'common roof deck', 'private roof deck', 'private roofdeck', 'roof deck with grills', 'roof deck with real grass', 'private roof-dec']\n",
    "df['roof_deck'] = df.apply(lambda row: check(row['features'], roof_deck), axis=1)"
   ]
  },
  {
   "cell_type": "code",
   "execution_count": null,
   "metadata": {},
   "outputs": [],
   "source": [
    "df"
   ]
  },
  {
   "cell_type": "markdown",
   "metadata": {},
   "source": [
    "### RF로 feature Importances 알아보기"
   ]
  },
  {
   "cell_type": "code",
   "execution_count": null,
   "metadata": {},
   "outputs": [],
   "source": [
    "from sklearn import preprocessing\n",
    "categorical = ['month', 'day_of_week', 'hour']\n",
    "for f in categorical:\n",
    "        lbl = preprocessing.LabelEncoder()\n",
    "        lbl.fit(df[f])\n",
    "        df[f] = lbl.transform(df[f])"
   ]
  },
  {
   "cell_type": "code",
   "execution_count": null,
   "metadata": {
    "scrolled": true
   },
   "outputs": [],
   "source": [
    "# RF로 feature Importances 알아보기\n",
    "from sklearn.ensemble import RandomForestClassifier\n",
    "X = df[['bathrooms', 'bedrooms', 'price', 'price_per_bedroom', 'num_of_photos',\\\n",
    "        'description_length', 'weekend', 'studio', 'elevator', 'hardwood_floors',\\\n",
    "        'pet_allowed', 'doorman','dishwasher', 'laundry', 'no_fee', 'fitness_center',\\\n",
    "        'pre_war', 'roof_deck','month', 'day_of_week', 'hour']]\n",
    "y = df['interest_level']\n",
    "\n",
    "model1 = RandomForestClassifier(max_depth=10, n_estimators=100, random_state=0).fit(X, y)"
   ]
  },
  {
   "cell_type": "code",
   "execution_count": null,
   "metadata": {},
   "outputs": [],
   "source": [
    "feature_names = ['bathrooms', 'bedrooms', 'price', 'price_per_bedroom', 'num_of_photos',\\\n",
    "        'description_length', 'weekend', 'studio', 'elevator', 'hardwood_floors',\\\n",
    "        'pet_allowed', 'doorman','dishwasher', 'laundry', 'no_fee', 'fitness_center',\\\n",
    "        'pre_war', 'roof_deck', 'month', 'day_of_week', 'hour']\n",
    "importances = model1.feature_importances_\n",
    "indices = np.argsort(importances)\n",
    "\n",
    "plt.title('Feature Importances')\n",
    "plt.barh(range(len(indices)), importances[indices], color='b', align='center')\n",
    "plt.yticks(range(len(indices)), [feature_names[i] for i in indices])\n",
    "plt.xlabel('Relative Importance')\n",
    "plt.show()"
   ]
  },
  {
   "cell_type": "markdown",
   "metadata": {},
   "source": [
    "### colums type 정리"
   ]
  },
  {
   "cell_type": "code",
   "execution_count": null,
   "metadata": {},
   "outputs": [],
   "source": [
    "df_place = ['building_id', 'description', 'display_address ', 'latitude', 'listing_id', 'longitude'\\\n",
    "           'manager_id', 'street_address']\n",
    "df_numeric = ['bathrooms', 'bedrooms', 'price', 'price_per_bedroom', 'log_price', 'num_of_photos'\\\n",
    "             'description_length']\n",
    "df_categorical = ['month', 'day_of_week', 'hour']\n",
    "df_bool = ['weekend', 'studio', 'elevator', 'hardwood_floors', 'pet_allowed', 'doorman',\\\n",
    "          'dishwasher', 'laundry', 'no_fee', 'fitness_center', 'pre_war', 'roof_deck']"
   ]
  },
  {
   "cell_type": "code",
   "execution_count": null,
   "metadata": {},
   "outputs": [],
   "source": [
    "import pickle\n",
    "with open(\"two-sigma-connect-rental-listing-inquiries/df_feature_engineering.pkl\", \"rb\") as f:\n",
    "    load_obj = pickle.load(f)\n",
    "load_obj"
   ]
  },
  {
   "cell_type": "markdown",
   "metadata": {},
   "source": [
    "### neighborhood column 추가  -> Clustering 사용?\n",
    "- https://www.kaggle.com/luisblanche/price-compared-to-neighborhood-median"
   ]
  },
  {
   "cell_type": "code",
   "execution_count": null,
   "metadata": {},
   "outputs": [],
   "source": []
  },
  {
   "cell_type": "code",
   "execution_count": null,
   "metadata": {},
   "outputs": [],
   "source": []
  },
  {
   "cell_type": "code",
   "execution_count": null,
   "metadata": {},
   "outputs": [],
   "source": []
  },
  {
   "cell_type": "code",
   "execution_count": null,
   "metadata": {},
   "outputs": [],
   "source": []
  },
  {
   "cell_type": "code",
   "execution_count": null,
   "metadata": {},
   "outputs": [],
   "source": []
  },
  {
   "cell_type": "markdown",
   "metadata": {},
   "source": [
    "### building_id, manager_id 고민"
   ]
  },
  {
   "cell_type": "code",
   "execution_count": null,
   "metadata": {},
   "outputs": [],
   "source": [
    "# df.building_id.value_counts()"
   ]
  },
  {
   "cell_type": "code",
   "execution_count": null,
   "metadata": {},
   "outputs": [],
   "source": [
    "# df.manager_id.value_counts()"
   ]
  },
  {
   "cell_type": "code",
   "execution_count": null,
   "metadata": {},
   "outputs": [],
   "source": []
  },
  {
   "cell_type": "code",
   "execution_count": null,
   "metadata": {},
   "outputs": [],
   "source": []
  }
 ],
 "metadata": {
  "kernelspec": {
   "display_name": "Python 3",
   "language": "python",
   "name": "python3"
  },
  "language_info": {
   "codemirror_mode": {
    "name": "ipython",
    "version": 3
   },
   "file_extension": ".py",
   "mimetype": "text/x-python",
   "name": "python",
   "nbconvert_exporter": "python",
   "pygments_lexer": "ipython3",
   "version": "3.6.8"
  }
 },
 "nbformat": 4,
 "nbformat_minor": 2
}
